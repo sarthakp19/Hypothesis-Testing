{
 "cells": [
  {
   "cell_type": "markdown",
   "id": "38f71024",
   "metadata": {},
   "source": [
    "# Heart Disease Research Part II\n",
    "In this project, we’ll investigate some data from a sample patients who were evaluated for heart disease at the Cleveland Clinic Foundation."
   ]
  },
  {
   "cell_type": "code",
   "execution_count": 58,
   "id": "5ebed9f9",
   "metadata": {},
   "outputs": [],
   "source": [
    "import pandas as pd\n",
    "import seaborn as sns\n",
    "from matplotlib import pyplot as plt\n",
    "from scipy.stats import ttest_ind\n",
    "from scipy.stats import f_oneway\n",
    "from statsmodels.stats.multicomp import pairwise_tukeyhsd\n",
    "from scipy.stats import chi2_contingency"
   ]
  },
  {
   "cell_type": "code",
   "execution_count": 25,
   "id": "b84519cb",
   "metadata": {},
   "outputs": [
    {
     "name": "stdout",
     "output_type": "stream",
     "text": [
      "<class 'pandas.core.frame.DataFrame'>\n",
      "RangeIndex: 303 entries, 0 to 302\n",
      "Data columns (total 9 columns):\n",
      " #   Column         Non-Null Count  Dtype  \n",
      "---  ------         --------------  -----  \n",
      " 0   age            303 non-null    float64\n",
      " 1   sex            303 non-null    object \n",
      " 2   trestbps       303 non-null    float64\n",
      " 3   chol           303 non-null    float64\n",
      " 4   cp             303 non-null    object \n",
      " 5   exang          303 non-null    float64\n",
      " 6   fbs            303 non-null    float64\n",
      " 7   thalach        303 non-null    float64\n",
      " 8   heart_disease  303 non-null    object \n",
      "dtypes: float64(6), object(3)\n",
      "memory usage: 21.4+ KB\n",
      "None\n"
     ]
    },
    {
     "data": {
      "text/html": [
       "<div>\n",
       "<style scoped>\n",
       "    .dataframe tbody tr th:only-of-type {\n",
       "        vertical-align: middle;\n",
       "    }\n",
       "\n",
       "    .dataframe tbody tr th {\n",
       "        vertical-align: top;\n",
       "    }\n",
       "\n",
       "    .dataframe thead th {\n",
       "        text-align: right;\n",
       "    }\n",
       "</style>\n",
       "<table border=\"1\" class=\"dataframe\">\n",
       "  <thead>\n",
       "    <tr style=\"text-align: right;\">\n",
       "      <th></th>\n",
       "      <th>age</th>\n",
       "      <th>sex</th>\n",
       "      <th>trestbps</th>\n",
       "      <th>chol</th>\n",
       "      <th>cp</th>\n",
       "      <th>exang</th>\n",
       "      <th>fbs</th>\n",
       "      <th>thalach</th>\n",
       "      <th>heart_disease</th>\n",
       "    </tr>\n",
       "  </thead>\n",
       "  <tbody>\n",
       "    <tr>\n",
       "      <th>0</th>\n",
       "      <td>63.0</td>\n",
       "      <td>male</td>\n",
       "      <td>145.0</td>\n",
       "      <td>233.0</td>\n",
       "      <td>typical angina</td>\n",
       "      <td>0.0</td>\n",
       "      <td>1.0</td>\n",
       "      <td>150.0</td>\n",
       "      <td>absence</td>\n",
       "    </tr>\n",
       "    <tr>\n",
       "      <th>1</th>\n",
       "      <td>67.0</td>\n",
       "      <td>male</td>\n",
       "      <td>160.0</td>\n",
       "      <td>286.0</td>\n",
       "      <td>asymptomatic</td>\n",
       "      <td>1.0</td>\n",
       "      <td>0.0</td>\n",
       "      <td>108.0</td>\n",
       "      <td>presence</td>\n",
       "    </tr>\n",
       "    <tr>\n",
       "      <th>2</th>\n",
       "      <td>67.0</td>\n",
       "      <td>male</td>\n",
       "      <td>120.0</td>\n",
       "      <td>229.0</td>\n",
       "      <td>asymptomatic</td>\n",
       "      <td>1.0</td>\n",
       "      <td>0.0</td>\n",
       "      <td>129.0</td>\n",
       "      <td>presence</td>\n",
       "    </tr>\n",
       "    <tr>\n",
       "      <th>3</th>\n",
       "      <td>37.0</td>\n",
       "      <td>male</td>\n",
       "      <td>130.0</td>\n",
       "      <td>250.0</td>\n",
       "      <td>non-anginal pain</td>\n",
       "      <td>0.0</td>\n",
       "      <td>0.0</td>\n",
       "      <td>187.0</td>\n",
       "      <td>absence</td>\n",
       "    </tr>\n",
       "    <tr>\n",
       "      <th>4</th>\n",
       "      <td>41.0</td>\n",
       "      <td>female</td>\n",
       "      <td>130.0</td>\n",
       "      <td>204.0</td>\n",
       "      <td>atypical angina</td>\n",
       "      <td>0.0</td>\n",
       "      <td>0.0</td>\n",
       "      <td>172.0</td>\n",
       "      <td>absence</td>\n",
       "    </tr>\n",
       "  </tbody>\n",
       "</table>\n",
       "</div>"
      ],
      "text/plain": [
       "    age     sex  trestbps   chol                cp  exang  fbs  thalach  \\\n",
       "0  63.0    male     145.0  233.0    typical angina    0.0  1.0    150.0   \n",
       "1  67.0    male     160.0  286.0      asymptomatic    1.0  0.0    108.0   \n",
       "2  67.0    male     120.0  229.0      asymptomatic    1.0  0.0    129.0   \n",
       "3  37.0    male     130.0  250.0  non-anginal pain    0.0  0.0    187.0   \n",
       "4  41.0  female     130.0  204.0   atypical angina    0.0  0.0    172.0   \n",
       "\n",
       "  heart_disease  \n",
       "0       absence  \n",
       "1      presence  \n",
       "2      presence  \n",
       "3       absence  \n",
       "4       absence  "
      ]
     },
     "execution_count": 25,
     "metadata": {},
     "output_type": "execute_result"
    }
   ],
   "source": [
    "df = pd.read_csv('heart_disease2.csv')\n",
    "print(df.info())\n",
    "df.head()\n"
   ]
  },
  {
   "cell_type": "markdown",
   "id": "756f1418",
   "metadata": {},
   "source": [
    "# Predictors of Heart Disease\n",
    "\n",
    "\n",
    "Each of the patients in this dataset underwent an exercise test, during which their heart rate was monitored. For each patient, thalach gives us the highest heart rate that the patient achieved during this test."
   ]
  },
  {
   "cell_type": "code",
   "execution_count": 28,
   "id": "f6129fa3",
   "metadata": {},
   "outputs": [
    {
     "data": {
      "image/png": "[encoded data removed]",
      "text/plain": [
       "<Figure size 432x432 with 1 Axes>"
      ]
     },
     "metadata": {
      "needs_background": "light"
     },
     "output_type": "display_data"
    }
   ],
   "source": [
    "# box plot of `thalach` based on heart disease\n",
    "\n",
    "plt.figure(figsize=(6,6))\n",
    "sns.boxplot(x='thalach',y='heart_disease',data=df)\n",
    "plt.show()"
   ]
  },
  {
   "cell_type": "markdown",
   "id": "d1eb0919",
   "metadata": {},
   "source": [
    "Based on this plot, patients diagnosed with heart disease generally had a lower maximum heart rate during their exercise test."
   ]
  },
  {
   "cell_type": "code",
   "execution_count": 34,
   "id": "9e144484",
   "metadata": {},
   "outputs": [
    {
     "name": "stdout",
     "output_type": "stream",
     "text": [
      "`thalach` mean Difference:  19.11905597473242\n",
      "`thalach` median Difference:  19.0\n"
     ]
    }
   ],
   "source": [
    "# calculate and print mean difference\n",
    "thalach_hd = df.thalach[df.heart_disease == 'presence']\n",
    "thalach_no_hd = df.thalach[df.heart_disease == 'absence']\n",
    "mean_diff = thalach_no_hd.mean() - thalach_hd.mean()\n",
    "median_diff = thalach_no_hd.median() - thalach_hd.median()\n",
    "\n",
    "print('`thalach` mean Difference: ', mean_diff)\n",
    "print('`thalach` median Difference: ', median_diff)"
   ]
  },
  {
   "cell_type": "markdown",
   "id": "7aa346b9",
   "metadata": {},
   "source": [
    "# Finding 1\n",
    "We’d like to find out if the average thalach of a heart disease patient is significantly different from the average thalach for a person without heart disease.\n",
    "\n",
    "\n",
    "Null: The average thalach for a person with heart disease is equal to the average thalach for a person without heart disease.\n",
    "\n",
    "Alternative: The average thalach for a person with heart disease is NOT equal to the average thalach for a person without heart disease."
   ]
  },
  {
   "cell_type": "code",
   "execution_count": 36,
   "id": "cde52454",
   "metadata": {},
   "outputs": [
    {
     "name": "stdout",
     "output_type": "stream",
     "text": [
      "3.456964908430172e-14\n"
     ]
    }
   ],
   "source": [
    "# run two-sample t-test\n",
    "t_stat,pval = ttest_ind(thalach_hd,thalach_no_hd)\n",
    "print(pval)"
   ]
  },
  {
   "cell_type": "markdown",
   "id": "084f897d",
   "metadata": {},
   "source": [
    "which is equivalent to 0.00000000000003457. This is less than 0.05, so we “reject the null hypothesis” and conclude that there is a significant difference in thalach for people with heart disease compared to people without heart disease."
   ]
  },
  {
   "cell_type": "code",
   "execution_count": 37,
   "id": "d414b008",
   "metadata": {},
   "outputs": [
    {
     "data": {
      "image/png": "[encoded data removed]",
      "text/plain": [
       "<Figure size 432x432 with 1 Axes>"
      ]
     },
     "metadata": {
      "needs_background": "light"
     },
     "output_type": "display_data"
    }
   ],
   "source": [
    "# investigating other quantitative variables\n",
    "# Age\n",
    "plt.figure(figsize=(6,6))\n",
    "sns.boxplot(x='age',y='heart_disease',data=df)\n",
    "plt.show()"
   ]
  },
  {
   "cell_type": "markdown",
   "id": "041e5807",
   "metadata": {},
   "source": [
    "Based on this plot, patients diagnosed with heart disease generally had higher age.\n",
    "\n",
    "# Finding 2"
   ]
  },
  {
   "cell_type": "code",
   "execution_count": 39,
   "id": "9f325a79",
   "metadata": {},
   "outputs": [
    {
     "name": "stdout",
     "output_type": "stream",
     "text": [
      "`age` mean Difference:  4.040533426917001\n",
      "`age` median Difference:  6.0\n"
     ]
    }
   ],
   "source": [
    "# calculate and print mean difference\n",
    "age_hd = df.age[df.heart_disease == 'presence']\n",
    "age_no_hd = df.age[df.heart_disease == 'absence']\n",
    "mean_diff =  age_hd.mean() - age_no_hd.mean()\n",
    "median_diff = age_hd.median() - age_no_hd.median()\n",
    "\n",
    "print('`age` mean Difference: ', mean_diff)\n",
    "print('`age` median Difference: ', median_diff)"
   ]
  },
  {
   "cell_type": "code",
   "execution_count": 40,
   "id": "59bd4429",
   "metadata": {},
   "outputs": [
    {
     "name": "stdout",
     "output_type": "stream",
     "text": [
      "p-value for `age` two-sample t-test:  8.955636917529706e-05\n"
     ]
    }
   ],
   "source": [
    "# run two-sample t-test\n",
    "tstat, pval = ttest_ind(age_hd, age_no_hd)\n",
    "print('p-value for `age` two-sample t-test: ', pval)"
   ]
  },
  {
   "cell_type": "markdown",
   "id": "2c426a7d",
   "metadata": {},
   "source": [
    "This is less than 0.05, so we “reject the null hypothesis” and conclude that there is a significant difference in age for people with heart disease compared to people without heart disease.\n",
    "\n",
    "# Finding 3"
   ]
  },
  {
   "cell_type": "code",
   "execution_count": 41,
   "id": "76aa138e",
   "metadata": {},
   "outputs": [
    {
     "data": {
      "image/png": "[encoded data removed]",
      "text/plain": [
       "<Figure size 432x432 with 1 Axes>"
      ]
     },
     "metadata": {
      "needs_background": "light"
     },
     "output_type": "display_data"
    }
   ],
   "source": [
    "# trestbps\n",
    "plt.figure(figsize=(6,6))\n",
    "sns.boxplot(x='trestbps',y='heart_disease',data=df)\n",
    "plt.show()"
   ]
  },
  {
   "cell_type": "code",
   "execution_count": 42,
   "id": "9581a531",
   "metadata": {},
   "outputs": [
    {
     "name": "stdout",
     "output_type": "stream",
     "text": [
      "`trestbps` mean Difference:  5.318345323740999\n",
      "`trestbps` median Difference:  0.0\n"
     ]
    }
   ],
   "source": [
    "trestbps_hd = df.trestbps[df.heart_disease == 'presence']\n",
    "trestbps_no_hd = df.trestbps[df.heart_disease == 'absence']\n",
    "mean_diff =  trestbps_hd.mean() - trestbps_no_hd.mean()\n",
    "median_diff = trestbps_hd.median() - trestbps_no_hd.median()\n",
    "\n",
    "print('`trestbps` mean Difference: ', mean_diff)\n",
    "print('`trestbps` median Difference: ', median_diff)"
   ]
  },
  {
   "cell_type": "code",
   "execution_count": 43,
   "id": "194611de",
   "metadata": {},
   "outputs": [
    {
     "name": "stdout",
     "output_type": "stream",
     "text": [
      "p-value for `trestbps` two-sample t-test:  8.955636917529706e-05\n"
     ]
    }
   ],
   "source": [
    "# run two-sample t-test\n",
    "tstat, pval = ttest_ind(age_hd, age_no_hd)\n",
    "print('p-value for `trestbps` two-sample t-test: ', pval)"
   ]
  },
  {
   "cell_type": "markdown",
   "id": "f3c468d2",
   "metadata": {},
   "source": [
    "This is less than 0.05, so we “reject the null hypothesis” and conclude that there is a significant difference in trestbps for people with heart disease compared to people without heart disease.\n",
    "\n",
    "# Finding 4\n"
   ]
  },
  {
   "cell_type": "code",
   "execution_count": 44,
   "id": "60ec7a04",
   "metadata": {},
   "outputs": [
    {
     "data": {
      "image/png": "[encoded data removed]",
      "text/plain": [
       "<Figure size 432x432 with 1 Axes>"
      ]
     },
     "metadata": {
      "needs_background": "light"
     },
     "output_type": "display_data"
    }
   ],
   "source": [
    "# chol\n",
    "plt.figure(figsize=(6,6))\n",
    "sns.boxplot(x='chol',y='heart_disease',data=df)\n",
    "plt.show()"
   ]
  },
  {
   "cell_type": "code",
   "execution_count": 45,
   "id": "623cd672",
   "metadata": {},
   "outputs": [
    {
     "name": "stdout",
     "output_type": "stream",
     "text": [
      "`chol` mean Difference:  8.834576241445887\n",
      "`chol` median Difference:  14.5\n"
     ]
    }
   ],
   "source": [
    "chol_hd = df.chol[df.heart_disease == 'presence']\n",
    "chol_no_hd = df.chol[df.heart_disease == 'absence']\n",
    "mean_diff =  chol_hd.mean() - chol_no_hd.mean()\n",
    "median_diff = chol_hd.median() - chol_no_hd.median()\n",
    "\n",
    "print('`chol` mean Difference: ', mean_diff)\n",
    "print('`chol` median Difference: ', median_diff)"
   ]
  },
  {
   "cell_type": "code",
   "execution_count": 46,
   "id": "924c1f53",
   "metadata": {},
   "outputs": [
    {
     "name": "stdout",
     "output_type": "stream",
     "text": [
      "p-value for `chol` two-sample t-test:  0.13914167020436527\n"
     ]
    }
   ],
   "source": [
    "# run two-sample t-test\n",
    "tstat, pval = ttest_ind(chol_hd,chol_no_hd)\n",
    "print('p-value for `chol` two-sample t-test: ', pval)"
   ]
  },
  {
   "cell_type": "markdown",
   "id": "04138a29",
   "metadata": {},
   "source": [
    "This is more than 0.05, so we  “Accept the null hypothesis” and conclude that there is no significant difference in cholestrol for people with heart disease compared to people without heart disease."
   ]
  },
  {
   "cell_type": "markdown",
   "id": "854be786",
   "metadata": {},
   "source": [
    "# Chest Pain and Max Heart Rate \n",
    "# Finding 5"
   ]
  },
  {
   "cell_type": "code",
   "execution_count": 47,
   "id": "22b2c438",
   "metadata": {},
   "outputs": [
    {
     "data": {
      "image/png": "[encoded data removed]",
      "text/plain": [
       "<Figure size 432x432 with 1 Axes>"
      ]
     },
     "metadata": {
      "needs_background": "light"
     },
     "output_type": "display_data"
    }
   ],
   "source": [
    "plt.figure(figsize=(6,6))\n",
    "sns.boxplot(x='cp',y='thalach',data=df)\n",
    "plt.show()"
   ]
  },
  {
   "cell_type": "code",
   "execution_count": 54,
   "id": "dcfcfddc",
   "metadata": {},
   "outputs": [
    {
     "name": "stdout",
     "output_type": "stream",
     "text": [
      "p-value for ANOVA:  1.9065505247705008e-10\n",
      "           Multiple Comparison of Means - Tukey HSD, FWER=0.05           \n",
      "=========================================================================\n",
      "     group1           group2      meandiff p-adj   lower    upper  reject\n",
      "-------------------------------------------------------------------------\n",
      "    asymptomatic  atypical angina  21.7394  0.001  12.7439  30.735   True\n",
      "    asymptomatic non-anginal pain  14.7264  0.001    7.258 22.1948   True\n",
      "    asymptomatic   typical angina   15.276 0.0081   2.9702 27.5817   True\n",
      " atypical angina non-anginal pain   -7.013 0.2481 -16.7591   2.733  False\n",
      " atypical angina   typical angina  -6.4635 0.6069 -20.2707  7.3438  False\n",
      "non-anginal pain   typical angina   0.5495    0.9  -12.315 13.4141  False\n",
      "-------------------------------------------------------------------------\n"
     ]
    }
   ],
   "source": [
    "# save `thalach` based on `cp`\n",
    "thalach_typical = df.thalach[df.cp == 'typical angina']\n",
    "thalach_asymptom = df.thalach[df.cp == 'asymptomatic']\n",
    "thalach_nonangin = df.thalach[df.cp == 'non-anginal pain']\n",
    "thalach_atypical = df.thalach[df.cp == 'atypical angina']\n",
    "\n",
    "# running ANOVA test\n",
    "f_stat,pval = f_oneway(thalach_typical,thalach_asymptom,thalach_nonangin,thalach_atypical)\n",
    "print('p-value for ANOVA: ', pval)\n",
    "# run Tukey's range test\n",
    "tukey_result = pairwise_tukeyhsd(df.thalach,df.cp)\n",
    "print(tukey_result)"
   ]
  },
  {
   "cell_type": "markdown",
   "id": "84afb646",
   "metadata": {},
   "source": [
    "For any pair where “Reject” is “True”, we conclude that people with those chest pain types have significantly different maximum heart rates during exercise.\n",
    "\n",
    "Maybe surprisingly, people who are 'asymptomatic' seem to have a lower maximum heart rate (associated with heart disease) than people who have other kinds of chest pain."
   ]
  },
  {
   "cell_type": "markdown",
   "id": "b088d1de",
   "metadata": {},
   "source": [
    "# Heart Disease and Chest Pain\n",
    "# Finding 6\n",
    "\n",
    "Null: There is NOT an association between chest pain type and whether or not someone is diagnosed with heart disease.\n",
    "\n",
    "Alternative: There is an association between chest pain type and whether or not someone is diagnosed with heart disease."
   ]
  },
  {
   "cell_type": "code",
   "execution_count": 56,
   "id": "cce7fc26",
   "metadata": {},
   "outputs": [
    {
     "data": {
      "text/html": [
       "<div>\n",
       "<style scoped>\n",
       "    .dataframe tbody tr th:only-of-type {\n",
       "        vertical-align: middle;\n",
       "    }\n",
       "\n",
       "    .dataframe tbody tr th {\n",
       "        vertical-align: top;\n",
       "    }\n",
       "\n",
       "    .dataframe thead th {\n",
       "        text-align: right;\n",
       "    }\n",
       "</style>\n",
       "<table border=\"1\" class=\"dataframe\">\n",
       "  <thead>\n",
       "    <tr style=\"text-align: right;\">\n",
       "      <th>heart_disease</th>\n",
       "      <th>absence</th>\n",
       "      <th>presence</th>\n",
       "    </tr>\n",
       "    <tr>\n",
       "      <th>cp</th>\n",
       "      <th></th>\n",
       "      <th></th>\n",
       "    </tr>\n",
       "  </thead>\n",
       "  <tbody>\n",
       "    <tr>\n",
       "      <th>asymptomatic</th>\n",
       "      <td>39</td>\n",
       "      <td>105</td>\n",
       "    </tr>\n",
       "    <tr>\n",
       "      <th>atypical angina</th>\n",
       "      <td>41</td>\n",
       "      <td>9</td>\n",
       "    </tr>\n",
       "    <tr>\n",
       "      <th>non-anginal pain</th>\n",
       "      <td>68</td>\n",
       "      <td>18</td>\n",
       "    </tr>\n",
       "    <tr>\n",
       "      <th>typical angina</th>\n",
       "      <td>16</td>\n",
       "      <td>7</td>\n",
       "    </tr>\n",
       "  </tbody>\n",
       "</table>\n",
       "</div>"
      ],
      "text/plain": [
       "heart_disease     absence  presence\n",
       "cp                                 \n",
       "asymptomatic           39       105\n",
       "atypical angina        41         9\n",
       "non-anginal pain       68        18\n",
       "typical angina         16         7"
      ]
     },
     "execution_count": 56,
     "metadata": {},
     "output_type": "execute_result"
    }
   ],
   "source": [
    "crosstab = pd.crosstab(df.cp,df.heart_disease)\n",
    "crosstab"
   ]
  },
  {
   "cell_type": "code",
   "execution_count": 59,
   "id": "7dd95490",
   "metadata": {},
   "outputs": [
    {
     "name": "stdout",
     "output_type": "stream",
     "text": [
      "1.2517106007837527e-17\n"
     ]
    }
   ],
   "source": [
    "chi2,pval,dof,expected = chi2_contingency(crosstab)\n",
    "print(pval)"
   ]
  },
  {
   "cell_type": "markdown",
   "id": "e00d8615",
   "metadata": {},
   "source": [
    "This is less than 0.05, so we “reject the null hypothesis” and conclude that there is association between chest pain type and whether or not someone is diagnosed with heart disease."
   ]
  }
 ],
 "metadata": {
  "kernelspec": {
   "display_name": "Python 3",
   "language": "python",
   "name": "python3"
  },
  "language_info": {
   "codemirror_mode": {
    "name": "ipython",
    "version": 3
   },
   "file_extension": ".py",
   "mimetype": "text/x-python",
   "name": "python",
   "nbconvert_exporter": "python",
   "pygments_lexer": "ipython3",
   "version": "3.8.8"
  }
 },
 "nbformat": 4,
 "nbformat_minor": 5
}
