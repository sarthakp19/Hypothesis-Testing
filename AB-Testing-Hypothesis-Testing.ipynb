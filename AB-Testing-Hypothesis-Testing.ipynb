{
 "cells": [
  {
   "cell_type": "markdown",
   "id": "fb1b8719",
   "metadata": {},
   "source": [
    "# Analyzing Farmburg's A/B Test\n",
    "Brian is a Product Manager at FarmBurg, a company that makes a farming simulation social network game. In the FarmBurg game, you can plow, plant, and harvest different crops. Brian has been conducting an A/B Test with three different variants, and he wants us to help him analyze the results. Using the Python modules pandas and SciPy, we will help him make some important business decisions!"
   ]
  },
  {
   "cell_type": "code",
   "execution_count": 21,
   "id": "6536c784",
   "metadata": {},
   "outputs": [],
   "source": [
    "import pandas as pd\n",
    "from scipy.stats import chi2_contingency,binom_test"
   ]
  },
  {
   "cell_type": "code",
   "execution_count": 5,
   "id": "3d4869ad",
   "metadata": {},
   "outputs": [
    {
     "name": "stdout",
     "output_type": "stream",
     "text": [
      "<class 'pandas.core.frame.DataFrame'>\n",
      "RangeIndex: 4998 entries, 0 to 4997\n",
      "Data columns (total 3 columns):\n",
      " #   Column       Non-Null Count  Dtype \n",
      "---  ------       --------------  ----- \n",
      " 0   user_id      4998 non-null   object\n",
      " 1   group        4998 non-null   object\n",
      " 2   is_purchase  4998 non-null   object\n",
      "dtypes: object(3)\n",
      "memory usage: 117.3+ KB\n",
      "None\n"
     ]
    },
    {
     "data": {
      "text/html": [
       "<div>\n",
       "<style scoped>\n",
       "    .dataframe tbody tr th:only-of-type {\n",
       "        vertical-align: middle;\n",
       "    }\n",
       "\n",
       "    .dataframe tbody tr th {\n",
       "        vertical-align: top;\n",
       "    }\n",
       "\n",
       "    .dataframe thead th {\n",
       "        text-align: right;\n",
       "    }\n",
       "</style>\n",
       "<table border=\"1\" class=\"dataframe\">\n",
       "  <thead>\n",
       "    <tr style=\"text-align: right;\">\n",
       "      <th></th>\n",
       "      <th>user_id</th>\n",
       "      <th>group</th>\n",
       "      <th>is_purchase</th>\n",
       "    </tr>\n",
       "  </thead>\n",
       "  <tbody>\n",
       "    <tr>\n",
       "      <th>0</th>\n",
       "      <td>8e27bf9a</td>\n",
       "      <td>A</td>\n",
       "      <td>No</td>\n",
       "    </tr>\n",
       "    <tr>\n",
       "      <th>1</th>\n",
       "      <td>eb89e6f0</td>\n",
       "      <td>A</td>\n",
       "      <td>No</td>\n",
       "    </tr>\n",
       "    <tr>\n",
       "      <th>2</th>\n",
       "      <td>7119106a</td>\n",
       "      <td>A</td>\n",
       "      <td>No</td>\n",
       "    </tr>\n",
       "    <tr>\n",
       "      <th>3</th>\n",
       "      <td>e53781ff</td>\n",
       "      <td>A</td>\n",
       "      <td>No</td>\n",
       "    </tr>\n",
       "    <tr>\n",
       "      <th>4</th>\n",
       "      <td>02d48cf1</td>\n",
       "      <td>A</td>\n",
       "      <td>Yes</td>\n",
       "    </tr>\n",
       "  </tbody>\n",
       "</table>\n",
       "</div>"
      ],
      "text/plain": [
       "    user_id group is_purchase\n",
       "0  8e27bf9a     A          No\n",
       "1  eb89e6f0     A          No\n",
       "2  7119106a     A          No\n",
       "3  e53781ff     A          No\n",
       "4  02d48cf1     A         Yes"
      ]
     },
     "execution_count": 5,
     "metadata": {},
     "output_type": "execute_result"
    }
   ],
   "source": [
    "df = pd.read_csv('clicks.csv')\n",
    "print(df.info())\n",
    "df.head()"
   ]
  },
  {
   "cell_type": "code",
   "execution_count": 3,
   "id": "75b773f8",
   "metadata": {},
   "outputs": [],
   "source": [
    "group_a = df[df.group == 'A']\n",
    "group_b = df[df.group == 'B']\n",
    "group_c = df[df.group == 'C']"
   ]
  },
  {
   "cell_type": "markdown",
   "id": "55a9e4de",
   "metadata": {},
   "source": [
    "# Hypothesis 1\n",
    "We are interested in whether visitors are more likely to make a purchase if they are in any one group compared to the others. Because we want to know if there is an association between two categorical variables, we’ll start by using a Chi-Square test to address our question."
   ]
  },
  {
   "cell_type": "code",
   "execution_count": 7,
   "id": "8dd1b56a",
   "metadata": {},
   "outputs": [
    {
     "name": "stdout",
     "output_type": "stream",
     "text": [
      "is_purchase    No  Yes\n",
      "group                 \n",
      "A            1350  316\n",
      "B            1483  183\n",
      "C            1583   83\n"
     ]
    }
   ],
   "source": [
    "crosstab = pd.crosstab(df.group,df.is_purchase)\n",
    "print(crosstab)"
   ]
  },
  {
   "cell_type": "code",
   "execution_count": 8,
   "id": "93c13695",
   "metadata": {},
   "outputs": [
    {
     "name": "stdout",
     "output_type": "stream",
     "text": [
      "2.4126213546684264e-35\n"
     ]
    }
   ],
   "source": [
    "chi2,pval,dof,expected = chi2_contingency(crosstab)\n",
    "print(pval)"
   ]
  },
  {
   "cell_type": "markdown",
   "id": "4533ea8d",
   "metadata": {},
   "source": [
    "which means it’s very close to zero (approximately 0.0000000000000000000000000000000000241). Therefore, the p-value is less than 0.05 and we can conclude that there is a significant difference in the purchase rate for groups A, B, and C."
   ]
  },
  {
   "cell_type": "markdown",
   "id": "ca5ea0cc",
   "metadata": {},
   "source": [
    "# Hypothesis 2\n",
    "Brain : We are trying to get users to purchase a small FarmBurg upgrade package. It’s called a microtransaction. We’re not sure how much to charge for it, so we tested three different price points: 0.99 for group A,1.99 for Group B, 4.99 for Group C .It looks like significantly more people bought the upgrade package for $0.99, so I guess that’s what we’ll charge.\n",
    "\n",
    "We should have asked Brian this before we did that Chi-Square test. That wasn’t the right test at all. It’s true that more people wanted to purchase the upgrade at $0.99; we probably expected that. What we really want to know is whether each price point allows us to make enough money that we can exceed some target goal. \n",
    "\n",
    "Brian: Hmm. I guess that we need to generate a minimum of $1000 in revenue per week in order to justify this project."
   ]
  },
  {
   "cell_type": "code",
   "execution_count": 18,
   "id": "57a3e737",
   "metadata": {},
   "outputs": [
    {
     "name": "stdout",
     "output_type": "stream",
     "text": [
      "--------------------0------------------------\n",
      "1010.1010101010102\n",
      "--------------------------------------------\n",
      "20.21010424371769\n",
      "------------------1--------------------------\n",
      "502.51256281407035\n",
      "--------------------------------------------\n",
      "10.054272965467593\n",
      "-------------------4-------------------------\n",
      "200.40080160320642\n",
      "--------------------------------------------\n",
      "4.0096198800161345\n"
     ]
    }
   ],
   "source": [
    "num_visits = len(df)\n",
    "print('--------------------0------------------------')\n",
    "num_sales_needed_099 = 1000/0.99\n",
    "print(num_sales_needed_099)\n",
    "print('--------------------------------------------')\n",
    "\n",
    "p_sales_needed_099  = num_sales_needed_099/num_visits *100\n",
    "print(p_sales_needed_099)\n",
    "print('------------------1--------------------------')\n",
    "\n",
    "num_sales_needed_199 = 1000/1.99\n",
    "print(num_sales_needed_199)\n",
    "print('--------------------------------------------')\n",
    "\n",
    "p_sales_needed_199  = num_sales_needed_199/num_visits *100\n",
    "print(p_sales_needed_199)\n",
    "print('-------------------4-------------------------')\n",
    "\n",
    "num_sales_needed_499 = 1000/4.99\n",
    "print(num_sales_needed_499)\n",
    "print('--------------------------------------------')\n",
    "\n",
    "p_sales_needed_499  = num_sales_needed_499/num_visits *100\n",
    "print(p_sales_needed_499)\n",
    "\n"
   ]
  },
  {
   "cell_type": "code",
   "execution_count": 22,
   "id": "6d5fc035",
   "metadata": {},
   "outputs": [
    {
     "name": "stdout",
     "output_type": "stream",
     "text": [
      "----------------binom test----------------------\n",
      "1666\n",
      "316\n",
      "--------------------------------------------\n",
      "1666\n",
      "183\n",
      "--------------------------------------------\n",
      "1666\n",
      "83\n",
      "--------------------------------------------\n",
      "0.9888254602240276\n",
      "0.0982588983603735\n",
      "0.02663954665996981\n"
     ]
    }
   ],
   "source": [
    "print('----------------binom test----------------------')\n",
    "T009 = df[df.group == 'A']\n",
    "samp_size_099 = len(T009)\n",
    "print(samp_size_099)\n",
    "sales_099 = len(T009[T009.is_purchase == 'Yes'])\n",
    "print(sales_099)\n",
    "print('--------------------------------------------')\n",
    "T199 = df[df.group == 'B']\n",
    "samp_size_199 = len(T199)\n",
    "print(samp_size_199)\n",
    "sales_199 = len(T199[T199.is_purchase == 'Yes'])\n",
    "print(sales_199)\n",
    "\n",
    "print('--------------------------------------------')\n",
    "T499 = df[df.group == 'C']\n",
    "samp_size_499 = len(T499)\n",
    "print(samp_size_499)\n",
    "sales_499 = len(T499[T499.is_purchase == 'Yes'])\n",
    "print(sales_499)\n",
    "print('--------------------------------------------')\n",
    "\n",
    "pval1 = binom_test(316,1666,0.212,alternative ='greater')\n",
    "print(pval1)\n",
    "pval2 = binom_test(183,1666,0.10,alternative = 'greater')\n",
    "print(pval2)\n",
    "pval3 = binom_test(83,1666,0.04,alternative = 'greater')\n",
    "print(pval3)\n"
   ]
  },
  {
   "cell_type": "markdown",
   "id": "45b08fcb",
   "metadata": {},
   "source": [
    "pvalueC is the only p-value below the threshold of 0.05. Therefore, the C group is the only group where we would conclude that the purchase rate is significantly higher than the target needed to reach 1000 revenue per week. Therefore, Brian should charge 4.99 for the upgrade."
   ]
  }
 ],
 "metadata": {
  "kernelspec": {
   "display_name": "Python 3",
   "language": "python",
   "name": "python3"
  },
  "language_info": {
   "codemirror_mode": {
    "name": "ipython",
    "version": 3
   },
   "file_extension": ".py",
   "mimetype": "text/x-python",
   "name": "python",
   "nbconvert_exporter": "python",
   "pygments_lexer": "ipython3",
   "version": "3.8.8"
  }
 },
 "nbformat": 4,
 "nbformat_minor": 5
}
